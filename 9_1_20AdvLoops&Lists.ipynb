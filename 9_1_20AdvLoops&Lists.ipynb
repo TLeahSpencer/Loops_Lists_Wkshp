{
  "nbformat": 4,
  "nbformat_minor": 0,
  "metadata": {
    "colab": {
      "name": "9.1.20AdvLoops&Lists.ipynb",
      "provenance": [],
      "collapsed_sections": [],
      "authorship_tag": "ABX9TyNaHPIvxcZFqgBgcwJLF4Ue",
      "include_colab_link": true
    },
    "kernelspec": {
      "name": "python3",
      "display_name": "Python 3"
    }
  },
  "cells": [
    {
      "cell_type": "markdown",
      "metadata": {
        "id": "view-in-github",
        "colab_type": "text"
      },
      "source": [
        "<a href=\"https://colab.research.google.com/github/TLeahSpencer/Loops_Lists_Wkshps/blob/master/9_1_20AdvLoops%26Lists.ipynb\" target=\"_parent\"><img src=\"https://colab.research.google.com/assets/colab-badge.svg\" alt=\"Open In Colab\"/></a>"
      ]
    },
    {
      "cell_type": "markdown",
      "metadata": {
        "id": "dQGprOi2OMjD",
        "colab_type": "text"
      },
      "source": [
        "##Office Hours workshop with Anade (Terrence Davis)\n",
        "#Advanced Loops & Lists in Python"
      ]
    },
    {
      "cell_type": "markdown",
      "metadata": {
        "id": "gxqm_cSaDRm3",
        "colab_type": "text"
      },
      "source": [
        "Interger = Number\n",
        "\n",
        "Float = Numbers with Decimals\n",
        "\n",
        "String = Sequence of Characters (Words, Letters, Numbers, intergers, floats, etc)\n",
        "\n",
        "Object = All Characters (Strings and Objects have become synonymous)\n",
        "\n",
        "##**Loops** = Perform a task over and over again\n",
        "\n",
        "##**Range Function** = Ordered Sequence\n",
        "\n",
        "##**List** = Ordered Sequence\n",
        "\n",
        "##**Set** = Unordered Sequence"
      ]
    },
    {
      "cell_type": "markdown",
      "metadata": {
        "id": "bq-Vdt_hElUG",
        "colab_type": "text"
      },
      "source": [
        "**Conditional Statements**\n",
        "\n",
        "Equals: x==y\n",
        "\n",
        "Not Equals: x!=y\n",
        "\n",
        "Less than: x<y\n",
        "\n",
        "Less than or equal to: x<=y\n",
        "\n",
        "Greater than: x>y\n",
        "\n",
        "Greater than or equal to: x>=y"
      ]
    },
    {
      "cell_type": "code",
      "metadata": {
        "id": "to1MxgTNE_T-",
        "colab_type": "code",
        "colab": {}
      },
      "source": [
        "#define a list, Family is the name of the list here\n",
        "Family = ['Husband', 'Sister', 'Child', 'Brother']"
      ],
      "execution_count": 2,
      "outputs": []
    },
    {
      "cell_type": "code",
      "metadata": {
        "id": "p5Yg0RR25rFy",
        "colab_type": "code",
        "colab": {
          "base_uri": "https://localhost:8080/",
          "height": 84
        },
        "outputId": "e14ef1f8-8f9e-42ac-a375-fcd062b11275"
      },
      "source": [
        "#function that acts on each item in the list\n",
        "#in this case, it prints them\n",
        "#A is a made-up thing, can be anything you make up\n",
        "for A in Family: #this creates the Value A (blank variable) for values in Family (a real variable, a list)\n",
        "  print(A) #this tells to print the variable A, which is defined by the values in Family"
      ],
      "execution_count": 4,
      "outputs": [
        {
          "output_type": "stream",
          "text": [
            "Husband\n",
            "Sister\n",
            "Child\n",
            "Brother\n"
          ],
          "name": "stdout"
        }
      ]
    },
    {
      "cell_type": "code",
      "metadata": {
        "id": "H-j5Avh4OLNm",
        "colab_type": "code",
        "colab": {}
      },
      "source": [
        "#define a new variable Math, a list\n",
        "Math = [7,8,9,5,4,2,1]"
      ],
      "execution_count": 5,
      "outputs": []
    },
    {
      "cell_type": "code",
      "metadata": {
        "id": "YVqMaYvrFWMQ",
        "colab_type": "code",
        "colab": {
          "base_uri": "https://localhost:8080/",
          "height": 134
        },
        "outputId": "436e3956-6546-4151-aad4-8c19b472be35"
      },
      "source": [
        "#this tells the variable to be multiplied by itself\n",
        "for c in Math:\n",
        "  print(c*c)"
      ],
      "execution_count": 6,
      "outputs": [
        {
          "output_type": "stream",
          "text": [
            "49\n",
            "64\n",
            "81\n",
            "25\n",
            "16\n",
            "4\n",
            "1\n"
          ],
          "name": "stdout"
        }
      ]
    },
    {
      "cell_type": "code",
      "metadata": {
        "id": "wxn0_w1CFaQQ",
        "colab_type": "code",
        "colab": {
          "base_uri": "https://localhost:8080/",
          "height": 134
        },
        "outputId": "fda600eb-52fa-4caf-9bb4-e368133859e1"
      },
      "source": [
        "#this tells the variable to be added to 12\n",
        "for c in Math:\n",
        "  print(c+12)"
      ],
      "execution_count": 7,
      "outputs": [
        {
          "output_type": "stream",
          "text": [
            "19\n",
            "20\n",
            "21\n",
            "17\n",
            "16\n",
            "14\n",
            "13\n"
          ],
          "name": "stdout"
        }
      ]
    },
    {
      "cell_type": "code",
      "metadata": {
        "id": "dLiZWUCLF9Y2",
        "colab_type": "code",
        "colab": {}
      },
      "source": [
        "#define a new variable with range function\n",
        "#3 is position where range starts (so 4th because 1st is 0)\n",
        "#200 is position where range ends (so 199 would be the highest number in range)\n",
        "#21 is how many numbers to \"skip\" by in creating the range\n",
        "Math2 = range(3,200,21)"
      ],
      "execution_count": 12,
      "outputs": []
    },
    {
      "cell_type": "code",
      "metadata": {
        "id": "ftWoYG6hvjXl",
        "colab_type": "code",
        "colab": {
          "base_uri": "https://localhost:8080/",
          "height": 33
        },
        "outputId": "79cdd702-4096-4183-ded4-bcdc2a1b453b"
      },
      "source": [
        "#this shows what Math2 is defined as\n",
        "Math2"
      ],
      "execution_count": 13,
      "outputs": [
        {
          "output_type": "execute_result",
          "data": {
            "text/plain": [
              "range(3, 200, 21)"
            ]
          },
          "metadata": {
            "tags": []
          },
          "execution_count": 13
        }
      ]
    },
    {
      "cell_type": "code",
      "metadata": {
        "id": "Z4seainavtsd",
        "colab_type": "code",
        "colab": {
          "base_uri": "https://localhost:8080/",
          "height": 33
        },
        "outputId": "edeb730f-a06d-4774-8104-98d433261f35"
      },
      "source": [
        "#this tells what type of object Math2 is\n",
        "type(Math2)"
      ],
      "execution_count": 14,
      "outputs": [
        {
          "output_type": "execute_result",
          "data": {
            "text/plain": [
              "range"
            ]
          },
          "metadata": {
            "tags": []
          },
          "execution_count": 14
        }
      ]
    },
    {
      "cell_type": "code",
      "metadata": {
        "id": "quhdVlcowWWS",
        "colab_type": "code",
        "colab": {
          "base_uri": "https://localhost:8080/",
          "height": 33
        },
        "outputId": "d79d39c2-a70c-4672-d7f7-2422370a8be1"
      },
      "source": [
        "#we can't get the values the range defines without the for statement below\n",
        "print(Math2)"
      ],
      "execution_count": 16,
      "outputs": [
        {
          "output_type": "stream",
          "text": [
            "range(3, 200, 21)\n"
          ],
          "name": "stdout"
        }
      ]
    },
    {
      "cell_type": "code",
      "metadata": {
        "id": "sKxFYPbXGKqn",
        "colab_type": "code",
        "colab": {
          "base_uri": "https://localhost:8080/",
          "height": 184
        },
        "outputId": "f4930dc5-35d7-4a8f-e7b3-09a9664f098a"
      },
      "source": [
        "#here is how we can pull the values we created in the range\n",
        "for c in Math2:\n",
        "  print(c)"
      ],
      "execution_count": 17,
      "outputs": [
        {
          "output_type": "stream",
          "text": [
            "3\n",
            "24\n",
            "45\n",
            "66\n",
            "87\n",
            "108\n",
            "129\n",
            "150\n",
            "171\n",
            "192\n"
          ],
          "name": "stdout"
        }
      ]
    },
    {
      "cell_type": "code",
      "metadata": {
        "id": "1va_St-GGNym",
        "colab_type": "code",
        "colab": {}
      },
      "source": [
        "#define another range variable\n",
        "Math3 = range(2, 50, 3)"
      ],
      "execution_count": 22,
      "outputs": []
    },
    {
      "cell_type": "code",
      "metadata": {
        "id": "PezDDAiBxc4r",
        "colab_type": "code",
        "colab": {
          "base_uri": "https://localhost:8080/",
          "height": 284
        },
        "outputId": "23dbe644-ae06-4d90-b222-b3b9c4fa8733"
      },
      "source": [
        "#see the values in our new range variable\n",
        "for c in Math3:\n",
        "  print(c)"
      ],
      "execution_count": 23,
      "outputs": [
        {
          "output_type": "stream",
          "text": [
            "2\n",
            "5\n",
            "8\n",
            "11\n",
            "14\n",
            "17\n",
            "20\n",
            "23\n",
            "26\n",
            "29\n",
            "32\n",
            "35\n",
            "38\n",
            "41\n",
            "44\n",
            "47\n"
          ],
          "name": "stdout"
        }
      ]
    },
    {
      "cell_type": "code",
      "metadata": {
        "id": "NFcsGdF2GZhq",
        "colab_type": "code",
        "colab": {
          "base_uri": "https://localhost:8080/",
          "height": 284
        },
        "outputId": "19532d48-d1c2-4839-f7d4-3c8d3af203eb"
      },
      "source": [
        "#now do some math on the values in the variable\n",
        "for c in Math3:\n",
        "  print(c*c+2) #2*2=4+2=6, 5*5=25+2=27, ets"
      ],
      "execution_count": 24,
      "outputs": [
        {
          "output_type": "stream",
          "text": [
            "6\n",
            "27\n",
            "66\n",
            "123\n",
            "198\n",
            "291\n",
            "402\n",
            "531\n",
            "678\n",
            "843\n",
            "1026\n",
            "1227\n",
            "1446\n",
            "1683\n",
            "1938\n",
            "2211\n"
          ],
          "name": "stdout"
        }
      ]
    },
    {
      "cell_type": "code",
      "metadata": {
        "id": "iAbry7NFGd2D",
        "colab_type": "code",
        "colab": {}
      },
      "source": [
        "#define another list as variable Math4\n",
        "Math4 = [5,6,7,7,5,7,8,12,14]"
      ],
      "execution_count": 25,
      "outputs": []
    },
    {
      "cell_type": "code",
      "metadata": {
        "id": "YRLdQW_DGtdS",
        "colab_type": "code",
        "colab": {
          "base_uri": "https://localhost:8080/",
          "height": 33
        },
        "outputId": "0e365cc7-d8be-4bd0-8a8d-c0653281bedf"
      },
      "source": [
        "#find out the length or amount of characters or items in our list\n",
        "len(Math4)"
      ],
      "execution_count": 26,
      "outputs": [
        {
          "output_type": "execute_result",
          "data": {
            "text/plain": [
              "9"
            ]
          },
          "metadata": {
            "tags": []
          },
          "execution_count": 26
        }
      ]
    },
    {
      "cell_type": "code",
      "metadata": {
        "id": "4M0tRlEkGvb_",
        "colab_type": "code",
        "colab": {}
      },
      "source": [
        "#define a variable based on the length of the other variable\n",
        "NewMath=len(Math4)"
      ],
      "execution_count": 27,
      "outputs": []
    },
    {
      "cell_type": "code",
      "metadata": {
        "id": "WNULFtbAGzNR",
        "colab_type": "code",
        "colab": {
          "base_uri": "https://localhost:8080/",
          "height": 33
        },
        "outputId": "ab261b10-4bdf-4afe-d6f5-5cb88b0b3513"
      },
      "source": [
        "#view the value of the new variable\n",
        "#notice the for function is not needed\n",
        "NewMath"
      ],
      "execution_count": 28,
      "outputs": [
        {
          "output_type": "execute_result",
          "data": {
            "text/plain": [
              "9"
            ]
          },
          "metadata": {
            "tags": []
          },
          "execution_count": 28
        }
      ]
    },
    {
      "cell_type": "code",
      "metadata": {
        "id": "xGx3wGo4G0t1",
        "colab_type": "code",
        "colab": {
          "base_uri": "https://localhost:8080/",
          "height": 167
        },
        "outputId": "4627e0fb-4460-41f2-dfd7-8a7eb778bc02"
      },
      "source": [
        "#create a range based on the new variable\n",
        "for x in range(0,NewMath):\n",
        "  print(x)"
      ],
      "execution_count": 29,
      "outputs": [
        {
          "output_type": "stream",
          "text": [
            "0\n",
            "1\n",
            "2\n",
            "3\n",
            "4\n",
            "5\n",
            "6\n",
            "7\n",
            "8\n"
          ],
          "name": "stdout"
        }
      ]
    },
    {
      "cell_type": "code",
      "metadata": {
        "id": "Yi1GryixHK8B",
        "colab_type": "code",
        "colab": {}
      },
      "source": [
        "#create a new variable which is a list\n",
        "Family2 = ['Husband', 'Sister', 'Child', 'Brother', 'Mother', 'Father']"
      ],
      "execution_count": 30,
      "outputs": []
    },
    {
      "cell_type": "code",
      "metadata": {
        "id": "MPAzCiBWHW0K",
        "colab_type": "code",
        "colab": {
          "base_uri": "https://localhost:8080/",
          "height": 117
        },
        "outputId": "acca16b1-843e-4eb5-9f50-191b98acdf26"
      },
      "source": [
        "#view all the values in the variable\n",
        "for b in Family2:\n",
        "  print(b)"
      ],
      "execution_count": 31,
      "outputs": [
        {
          "output_type": "stream",
          "text": [
            "Husband\n",
            "Sister\n",
            "Child\n",
            "Brother\n",
            "Mother\n",
            "Father\n"
          ],
          "name": "stdout"
        }
      ]
    },
    {
      "cell_type": "code",
      "metadata": {
        "id": "tmSOY8qSHZn5",
        "colab_type": "code",
        "colab": {
          "base_uri": "https://localhost:8080/",
          "height": 100
        },
        "outputId": "07da258e-ee83-462b-e79f-f706b0f6b007"
      },
      "source": [
        "#break the loop after the == Conditional Statement, by placing print() function before it\n",
        "for b in Family2:\n",
        "  print(b)\n",
        "  if b == 'Mother':\n",
        "      break"
      ],
      "execution_count": 32,
      "outputs": [
        {
          "output_type": "stream",
          "text": [
            "Husband\n",
            "Sister\n",
            "Child\n",
            "Brother\n",
            "Mother\n"
          ],
          "name": "stdout"
        }
      ]
    },
    {
      "cell_type": "code",
      "metadata": {
        "id": "vwudH-xmHp7R",
        "colab_type": "code",
        "colab": {
          "base_uri": "https://localhost:8080/",
          "height": 84
        },
        "outputId": "a923e613-3f7a-4650-ca02-49d8652a7736"
      },
      "source": [
        "#break the loop before the == Conditional Statement, by placing the print() function after it\n",
        "for b in Family2:\n",
        "  if b == 'Mother':\n",
        "      break\n",
        "  print(b)"
      ],
      "execution_count": 33,
      "outputs": [
        {
          "output_type": "stream",
          "text": [
            "Husband\n",
            "Sister\n",
            "Child\n",
            "Brother\n"
          ],
          "name": "stdout"
        }
      ]
    },
    {
      "cell_type": "code",
      "metadata": {
        "id": "2JFhPLhHH_Mk",
        "colab_type": "code",
        "colab": {
          "base_uri": "https://localhost:8080/",
          "height": 100
        },
        "outputId": "81ce2877-9d3d-4e56-d097-d646788ea9ec"
      },
      "source": [
        "#this is how to ignore a value in the loop\n",
        "#poor mama :( she always gets ignored\n",
        "for b in Family2:\n",
        "  if b != 'Mother':\n",
        "      print(b)"
      ],
      "execution_count": 35,
      "outputs": [
        {
          "output_type": "stream",
          "text": [
            "Husband\n",
            "Sister\n",
            "Child\n",
            "Brother\n",
            "Father\n"
          ],
          "name": "stdout"
        }
      ]
    },
    {
      "cell_type": "markdown",
      "metadata": {
        "id": "tWl3Gr8vzaMr",
        "colab_type": "text"
      },
      "source": [
        "###If != is present, that means the loop remains True, green light to keep going, just don't include this output"
      ]
    },
    {
      "cell_type": "code",
      "metadata": {
        "id": "vKh3-tlEIbQB",
        "colab_type": "code",
        "colab": {}
      },
      "source": [
        "#define another variable\n",
        "A = 16"
      ],
      "execution_count": 36,
      "outputs": []
    },
    {
      "cell_type": "code",
      "metadata": {
        "id": "IaZ-tzaQInms",
        "colab_type": "code",
        "colab": {
          "base_uri": "https://localhost:8080/",
          "height": 217
        },
        "outputId": "679be7f2-f283-47da-df36-aa7685561990"
      },
      "source": [
        "#a \"While Loop\" starts from the start of the variable\n",
        "#and ends until our while is over, until A is no longer less than 40, in this case\n",
        "while A < 40:\n",
        "      print(A)\n",
        "      A += 2"
      ],
      "execution_count": 37,
      "outputs": [
        {
          "output_type": "stream",
          "text": [
            "16\n",
            "18\n",
            "20\n",
            "22\n",
            "24\n",
            "26\n",
            "28\n",
            "30\n",
            "32\n",
            "34\n",
            "36\n",
            "38\n"
          ],
          "name": "stdout"
        }
      ]
    },
    {
      "cell_type": "code",
      "metadata": {
        "id": "F4qCGU6SIul7",
        "colab_type": "code",
        "colab": {}
      },
      "source": [
        "#define another variable\n",
        "A2 = 60"
      ],
      "execution_count": 40,
      "outputs": []
    },
    {
      "cell_type": "code",
      "metadata": {
        "id": "sxVthxgxJJ-L",
        "colab_type": "code",
        "colab": {}
      },
      "source": [
        "#WARNING: this code will keep running and running and running\n",
        "#because we are adding, and the conditional statement of being greater than 40 will always be True\n",
        "#to stop the code, right-click and select 'Interrupt Execution'\n",
        "#no heads need to roll, at least not tonight\n",
        "while A2 > 40:\n",
        "      print(A2)\n",
        "      A2 += 2"
      ],
      "execution_count": null,
      "outputs": []
    },
    {
      "cell_type": "markdown",
      "metadata": {
        "id": "E9wVFnnh01ah",
        "colab_type": "text"
      },
      "source": [
        "#Some final definitions from Anade\n",
        "##While Loop: repeated as long as an expression is true\n",
        "##Expression: a statement that has a value\n",
        "##Do While Loop or Repeat Until Loop: repeats until an expression becomes False\n",
        "##Infinite or Endless Loop: repeats indefinitely because it has no terminating condition, the exit condition is never met, or the loop is instructed to start over from the beginning\n",
        "###Although it is possible for a programmer to intentionally use an infinite loop, they are often mistakes made by new programmers.\n",
        "##Nested Loop: appears inside any other For, While, or Do While Loop"
      ]
    },
    {
      "cell_type": "code",
      "metadata": {
        "id": "TI3NoJPhJRje",
        "colab_type": "code",
        "colab": {}
      },
      "source": [
        ""
      ],
      "execution_count": null,
      "outputs": []
    }
  ]
}